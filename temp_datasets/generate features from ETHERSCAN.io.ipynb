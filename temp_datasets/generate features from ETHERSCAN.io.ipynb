{
 "cells": [
  {
   "cell_type": "code",
   "execution_count": 1,
   "id": "06a63e27",
   "metadata": {},
   "outputs": [
    {
     "data": {
      "text/plain": [
       "False"
      ]
     },
     "execution_count": 1,
     "metadata": {},
     "output_type": "execute_result"
    }
   ],
   "source": [
    "# !pip install web3\n",
    "import dotenv\n",
    "import os\n",
    "from web3 import Web3\n",
    "import requests\n",
    "import pandas as pd\n",
    "from tqdm import tqdm\n",
    "\n",
    "os.environ['ETHERSCAN_API_KEY']='<give you api key here>'\n",
    "dotenv.load_dotenv(\".env\", override=True)"
   ]
  },
  {
   "cell_type": "markdown",
   "id": "f4048c75",
   "metadata": {},
   "source": [
    "# scrap hacked address "
   ]
  },
  {
   "cell_type": "code",
   "execution_count": 2,
   "id": "c25eeaff",
   "metadata": {},
   "outputs": [
    {
     "name": "stdout",
     "output_type": "stream",
     "text": [
      "Scraped 100 addresses from page 1\n",
      "Scraped 100 addresses from page 2\n",
      "All Scraped Addresses:\n",
      "0x00000000...03d7705Fa\n",
      "0xC02aaA39...83C756Cc2\n",
      "0xBE0eB53F...2404d33E8\n",
      "0x40B38765...6e418E489\n",
      "0x8315177a...4DBd7ed3a\n",
      "0x49048044...fAF74E97e\n",
      "0xDA9dfA13...6f6EA73Cf\n",
      "0x47ac0Fb4...507a6D503\n",
      "0xF977814e...97441aceC\n",
      "0xa6715EAF...0A7C90033\n",
      "0xbEb5Fc57...e41f106Ed\n",
      "0x742d35Cc...e4438f44e\n",
      "0xC61b9BB3...aeDCE193C\n",
      "0xE92d1A43...88f85226f\n",
      "0x61EDCDf5...1f1a56eEA\n",
      "0x1Db92e2E...BcD2dFCF4\n",
      "0xcA8Fa8f0...97c8aFfCa\n",
      "0x0E58e899...893d9BfCD\n",
      "0x3BfC20f0...F16540258\n",
      "0x81036832...d865C225E\n",
      "0xde0B2956...4cb697BAe\n",
      "0x8696e84a...a9648C8C2\n",
      "0x0a4c79cE...d83C44c76\n",
      "0x2B6eD29A...51080Ffb9\n",
      "0x539C9218...95baBBcA1\n",
      "0x868daB0b...6c78C6d7F\n",
      "0xbFbBFacC...80f3BD10F\n",
      "0xD3a22590...f0404C4A1\n",
      "0x1b3cB81E...ac763A7C2\n",
      "0xAFCD96e5...ACD45C5dA\n",
      "0x220866B1...268cA3A9D\n",
      "0x0C23fc0E...045581F2d\n",
      "0x94dBF04E...f86560C74\n",
      "0xbF3aEB96...e7c3Fdd28\n",
      "0xf3B0073E...222C302A3\n",
      "0x5B5B69f4...897bc7eC4\n",
      "0x2F2D854c...bB42c9b10\n",
      "0x15C22df3...d0F8B38A1\n",
      "0x999E77c9...813A9946E\n",
      "0x8484Ef72...E6e922B30\n",
      "0xA160cdAB...c3b53f291\n",
      "0x8D95842b...C616770C1\n",
      "0x35aeed3A...1E1E4c69f\n",
      "0x308861A4...Fc6DaF216\n",
      "0xB93d8596...0afd0d1Cb\n",
      "0x9e927c02...c7262Fb8e\n",
      "0xb5Ab08D1...F0Fb168D6\n",
      "0xdB3c617c...e37F096D9\n",
      "0xd19d4B5d...D11B0876F\n",
      "0x115ec8ea...0b3e339E2\n",
      "0xDf9Eb223...C21fE3D7F\n",
      "0x7EAd3A43...8ee9cB6f1\n",
      "0xC882b111...cC984F071\n",
      "0xd5268a47...1004139AF\n",
      "0x835678a6...6cbbB0007\n",
      "0xd47B4A4C...b50FEC00B\n",
      "0xd65fB7d4...BAB0d4c62\n",
      "0x595Faf77...DE8bAD8Db\n",
      "0x1BD3fC5A...acD9266ce\n",
      "0xF481B7fa...4FB053619\n",
      "0xa7C0D36c...c6Fe2592d\n",
      "0xa7E4fEcd...C98DFcfA6\n",
      "0x28C6c062...43bf21d60\n",
      "0x79f67f68...9CeA61C81\n",
      "0x368d43c2...A6A090367\n",
      "0x2D156672...46f116Aa0\n",
      "0xB4f4317b...21F378255\n",
      "0x84bf16e7...b45333ddf\n",
      "0x6d9D2B30...46F1BC042\n",
      "0xF443864B...4F980a635\n",
      "0xa1a45e91...d4FDBE0F3\n",
      "0x376c3E55...f665A4448\n",
      "0x558553D5...9c33Aa1E6\n",
      "0x084eF856...dAc005397\n",
      "0xCAc9c634...686baf457\n",
      "0x04B7F419...9a6Ae772B\n",
      "0xff2AC8c5...c4BeaB487\n",
      "0x4Ed97d64...87DA0eEC0\n",
      "0x7aacfaB0...E3A37B007\n",
      "0x6E414cfA...207C907b8\n",
      "0x19bf56fC...0ad24A719\n",
      "0xFCD159D0...BbB8cD05d\n",
      "0x8AE880b5...17859f293\n",
      "0xA463597d...7F92852b0\n",
      "0x3f6a6f3B...E7D383932\n",
      "0x5a710a3c...D8870626A\n",
      "0x7f150260...954A8cD0C\n",
      "0xD7f9f541...1c38cB2cB\n",
      "0xbEd96D08...E0040073a\n",
      "0x4eac9CE5...412bE30Bc\n",
      "0x76AE5632...c4DaeF9cC\n",
      "0x67f706Db...9c4eE31F0\n",
      "0xd9858d57...A06EfF98A\n",
      "0x4fdd5Eb2...Ab89D8ED4\n",
      "0xD8d98eE9...Ea1eE8604\n",
      "0x2d890344...22B17E42C\n",
      "0x40F50E83...4884687c3\n",
      "0x5a52E96B...1B270Efcb\n",
      "0x36B67515...f250914C8\n",
      "0xE9a5A2Ac...f2Ad97efB\n",
      "0xe93fC974...94368D3F5\n",
      "0x303C741B...32DA80519\n",
      "0x28140CB1...49C10263d\n",
      "0xC56fEFd1...b5586246E\n",
      "0xF196c023...b01cE0F51\n",
      "0x86a6a008...38D94f8D6\n",
      "0x9030dcB0...8FB489aD0\n",
      "0xD6216fC1...dA7D19a2c\n",
      "0x807cC0e7...73ef8F96A\n",
      "0xA580E49d...6e6F64D30\n",
      "0x9B07c94f...B70238A75\n",
      "0x22A54a1e...05502c1b0\n",
      "0xdA29aCcf...acb07732D\n",
      "0xf29C6705...bc750b675\n",
      "0x03D615c0...901ccD810\n",
      "0x5d71f4D4...F1f39549f\n",
      "0x6Fb8eBC1...9e974B461\n",
      "0x3727cfCB...AdB866be8\n",
      "0x1Bb762b1...6848cc286\n",
      "0xAd0D53Cf...1D366CEf6\n",
      "0xac08f21e...72aCde80d\n",
      "0x0eF37948...0b53A3506\n",
      "0xbDdf0056...2012F12BE\n",
      "0x6586ce3d...f132c104f\n",
      "0x3f4AC8D3...c012c65Cc\n",
      "0xae0Ee0A6...EFE48D419\n",
      "0xBf4eD7b2...d20bca754\n",
      "0xB3764761...d1dDb4D32\n",
      "0xb46427e2...DDd4401E2\n",
      "0x2fD56159...Fa58cd5b9\n",
      "0xC39cC669...D1ec53143\n",
      "0x918fa381...Acaf16385\n",
      "0xd2b0b1DA...F1CFD89cB\n",
      "0xfDFEb747...81b06DEF3\n",
      "0xBf94F0AC...b2cbb420B\n",
      "0x6774Bcbd...2DDD8b367\n",
      "0xf7858Da8...eeDF64840\n",
      "0xA7EFAe72...68dD593f3\n",
      "0x831c3720...3d7Cb2fAA\n",
      "0x0a8f6257...E333ad7Fc\n",
      "0x7CeD76DD...E9bCE7524\n",
      "0x10cAD69c...80134d1bC\n",
      "0x92F71D08...45B55aD2a\n",
      "0x6b2069bd...D0a90BB96\n",
      "0x1b7B5b4B...24e20aDe7\n",
      "0xB3177D98...dc5E797cc\n",
      "0x9aabd298...B9F70930F\n",
      "0xe27F62b7...1940FA29A\n",
      "0x755cdba6...6c759833B\n",
      "0x73AF3bcf...e2054D935\n",
      "0xc54cb229...d3e15A8Fb\n",
      "0x1F72B240...16A643a0F\n",
      "0x3fd6b1E2...08895a7D0\n",
      "0xd65D71E5...E048d1b33\n",
      "0x4E5fAB20...B0a0b343B\n",
      "0x54cEe0eF...4A4C4490E\n",
      "0xecEF6625...1FD3f34cc\n",
      "0x92CF9066...be6EF1858\n",
      "0xC4D5B7c5...45193E207\n",
      "0xD548Dd6c...e1683b0E3\n",
      "0xcAAAd257...00Fd3D76a\n",
      "0x1e143b25...3dF995CE0\n",
      "0x4920F22B...809485952\n",
      "0xAD7f7919...a7842003D\n",
      "0x47029DC4...CfF4f6A35\n",
      "0x3BC643A8...a66001C1d\n",
      "0x282eDaB8...CbE9928A7\n",
      "0xeC6A76e7...53cB65A9C\n",
      "0x8c1Fe069...83Cc46873\n",
      "0xE4F48664...5312B7459\n",
      "0x17E5545B...9Fb0dbF24\n",
      "0x52E86988...00113104c\n",
      "0x267be1C1...41E4Ffdc0\n",
      "0x1342A001...66d78bd5f\n",
      "0xD4914762...0476D2Ff6\n",
      "0x5bcD25b6...C10E1abCd\n",
      "0xa43D2e05...21A539f92\n",
      "0x998a7fd7...730B27137\n",
      "0x1e2FCfd2...5b02BCb40\n",
      "0x5126EC2d...641454FE8\n",
      "0x8408B4ff...Ecc4Bb486\n",
      "0x4Ddc2D19...718270ED5\n",
      "0x904cC2B2...108213126\n",
      "0x693be1Ea...69898dEe8\n",
      "0x8C338961...1feE9eBdC\n",
      "0x26648Eb6...E6567b9df\n",
      "0x7Ac0d327...B749dc069\n",
      "0x51CaB40A...0884b0adf\n",
      "0x1E547Eb3...CDd359DE5\n",
      "0xB10EdD6f...791594F13\n",
      "0x43458733...96c67A4Db\n",
      "0x2842eb68...FC7Dc650D\n",
      "0xa90aA5a9...c53E01410\n",
      "0x05576087...95935b0F5\n",
      "0x7c2a289c...16d2C934e\n",
      "0x46f80018...1FCA4ee9b\n",
      "0xE3EcD65c...B2172aBD1\n",
      "0xe3f53355...02570061A\n",
      "0x7DF24E36...30049EE47\n",
      "0x7d6149aD...B766841B4\n"
     ]
    }
   ],
   "source": [
    "import requests\n",
    "from bs4 import BeautifulSoup\n",
    "import time\n",
    "\n",
    "# Define headers to mimic a browser request\n",
    "headers = {\n",
    "    \"User-Agent\": \"Mozilla/5.0 (Macintosh; Intel Mac OS X 10_15_7) AppleWebKit/537.36 (KHTML, like Gecko) Chrome/86.0.4240.198 Safari/537.36\",\n",
    "    \"Accept-Language\": \"en-US,en;q=0.9\",\n",
    "}\n",
    "\n",
    "# Function to scrape Ethereum addresses from a specific page\n",
    "def scrape_addresses(page_number):\n",
    "    url = f'https://etherscan.io/accounts/{page_number}?l=Phish%2fHack&ps=100'\n",
    "    response = requests.get(url, headers=headers)\n",
    "    response.raise_for_status()  # Check if request was successful\n",
    "\n",
    "    # Parse the HTML content\n",
    "    soup = BeautifulSoup(response.text, 'html.parser')\n",
    "    \n",
    "    # Find the table containing the addresses\n",
    "    table = soup.find('table', {'class': 'table'})\n",
    "    if not table:\n",
    "        print(f\"Table not found on page {page_number}\")\n",
    "        return []\n",
    "    \n",
    "    # Extract addresses from the table rows\n",
    "    addresses = []\n",
    "    rows = table.find_all('tr')\n",
    "    for row in rows[1:]:  # Skip header row\n",
    "        cols = row.find_all('td')\n",
    "        if len(cols) > 1:\n",
    "            address = cols[1].text.strip()\n",
    "            addresses.append(address)\n",
    "    \n",
    "    return addresses\n",
    "\n",
    "# Loop through pages and collect addresses\n",
    "all_addresses = []\n",
    "for page_number in range(1, 3):  # Adjust the range for more pages\n",
    "    try:\n",
    "        page_addresses = scrape_addresses(page_number)\n",
    "        all_addresses.extend(page_addresses)\n",
    "        print(f\"Scraped {len(page_addresses)} addresses from page {page_number}\")\n",
    "        time.sleep(2)  # Sleep to avoid hitting rate limits\n",
    "    except requests.exceptions.HTTPError as e:\n",
    "        print(f\"HTTP error on page {page_number}: {e}\")\n",
    "        break\n",
    "\n",
    "# Output collected addresses\n",
    "print(\"All Scraped Addresses:\")\n",
    "for address in all_addresses:\n",
    "    print(address)\n"
   ]
  },
  {
   "cell_type": "markdown",
   "id": "3859fa86",
   "metadata": {},
   "source": [
    "# recommend manually downlaod from the page or find another way since if do that its shortened like 0xBf94F0AC...b2cbb420B\n",
    "# or you can download from gcp mainnent transaction data"
   ]
  },
  {
   "cell_type": "code",
   "execution_count": 4,
   "id": "901df5e6",
   "metadata": {},
   "outputs": [
    {
     "data": {
      "text/plain": [
       "100"
      ]
     },
     "execution_count": 4,
     "metadata": {},
     "output_type": "execute_result"
    }
   ],
   "source": [
    "address_list = pd.read_csv('./export-accounts-1730613121530.csv')\n",
    "list_of_address = address_list['Address'].tolist() \n",
    "len(list_of_address)"
   ]
  },
  {
   "cell_type": "markdown",
   "id": "75ccb4d2",
   "metadata": {},
   "source": [
    "# from gcp mainnent transaction data (assume there is no fraud)"
   ]
  },
  {
   "cell_type": "code",
   "execution_count": 5,
   "id": "c63386ad",
   "metadata": {},
   "outputs": [
    {
     "data": {
      "text/plain": [
       "100"
      ]
     },
     "execution_count": 5,
     "metadata": {},
     "output_type": "execute_result"
    }
   ],
   "source": [
    "address_list_flag0 = pd.read_csv('./bquxjob_2927f56b_192f07f11e5.csv')\n",
    "list_of_address_0 = address_list_flag0['from_address'].tolist() \n",
    "len(list_of_address_0)"
   ]
  },
  {
   "cell_type": "code",
   "execution_count": 36,
   "id": "922c373e",
   "metadata": {},
   "outputs": [],
   "source": [
    "# address='0x87d884aaa6ff9e9b6014631b0abae80b53953fb8'\n",
    "# msg=requests.get(formQueryString(address,1,0,os.environ.get(\"ETHERSCAN_API_KEY\")))\n",
    "# msg.content"
   ]
  },
  {
   "cell_type": "code",
   "execution_count": 7,
   "id": "13ae9f37",
   "metadata": {},
   "outputs": [],
   "source": [
    "\n",
    "def formQueryString(address, pgNo, offset, api_key):\n",
    "    return \"https://api.etherscan.io/api?module=account&action=txlist&address=\" + address + \"&startblock=0&endblock=99999999&page=\" + str(pgNo) + \"&offset=\" + str(offset) + \"&sort=asc&apikey=\" + os.environ.get(\"ETHERSCAN_API_KEY\")\n",
    "\n",
    "def get_address_stats_normal_tnx(address, hacked):\n",
    "    response = requests.get(formQueryString(address,1,0,os.environ.get(\"ETHERSCAN_API_KEY\")))\n",
    "\n",
    "    sample_df = pd.DataFrame(response.json()['result'])\n",
    "    # Column creation of ETH  \n",
    "    sample_df['eth value'] = sample_df['value'].apply(lambda x: Web3.from_wei(int(x),'ether'))\n",
    "\n",
    "    # Typing of sent and received transactions\n",
    "    sample_df['txn type'] = sample_df['from'].apply(lambda x: 'sent' if x== address else 'received')\n",
    "\n",
    "    # Handling of Sent transactions stats\n",
    "    sample_df_sent =  sample_df[sample_df['txn type'] == 'sent']\n",
    "    sample_df_sent = sample_df_sent.sort_values(by=['timeStamp'])\n",
    "    sample_df_sent['timeStamp'] = sample_df_sent['timeStamp'].astype('int')\n",
    "\n",
    "    # Filtering of sent normal transfers to contract addresses\n",
    "    sample_df_sent_contracts = sample_df[sample_df['contractAddress'] != '']\n",
    "\n",
    "    # Compilation of normal sent transaction statistics\n",
    "    core_stats_Sent_tnx = len(sample_df_sent)\n",
    "    core_stats_MinValSent = sample_df_sent['eth value'].min()\n",
    "    core_stats_MaxValSent = sample_df_sent['eth value'].max()\n",
    "    core_stats_AvgValSent = sample_df_sent['eth value'].mean()\n",
    "    core_stats_MinValueSentToContract = sample_df_sent_contracts['eth value'].min()\n",
    "    core_stats_MaxValueSentToContract = sample_df_sent_contracts['eth value'].max()\n",
    "    core_stats_AvgValueSentToContract = sample_df_sent_contracts['eth value'].mean()\n",
    "    core_stats_TotalEtherSent = sample_df_sent['eth value'].sum()\n",
    "    core_stats_TotalEtherSent_Contracts = sample_df_sent_contracts['eth value'].sum()\n",
    "    core_stats_UniqueSentTo_Addresses = len(sample_df_sent['to'].unique())\n",
    "\n",
    "    # Handling of received transactions stats\n",
    "    sample_df_received =  sample_df[sample_df['txn type'] == 'received']\n",
    "    sample_df_received = sample_df_received.sort_values(by=['timeStamp'])\n",
    "    sample_df_received['timeStamp'] = sample_df_received['timeStamp'].astype('int')\n",
    "\n",
    "\n",
    "    # Compilation of normal received transaction statistics\n",
    "    core_stats_Received_tnx = len(sample_df_received)\n",
    "    core_stats_MinValueReceived = sample_df_received['eth value'].min()\n",
    "    core_stats_MaxValueReceived = sample_df_received['eth value'].max()\n",
    "    core_stats_AvgValueReceived = sample_df_received['eth value'].mean()\n",
    "    core_stats_TotalEtherReceived = sample_df_received['eth value'].sum()\n",
    "    core_stats_UniqueReceivedFrom_Addresses = len(sample_df_received['from'].unique())\n",
    "\n",
    "    # Handling of remaining normal transaction values\n",
    "    sample_df['timeStamp'] = sample_df['timeStamp'].astype('int')\n",
    "    sample_df.sort_values(by=['timeStamp'])\n",
    "    sample_df['unix time difference'] = sample_df['timeStamp'].diff()\n",
    "    sample_df_time_dim = sample_df.groupby('txn type')['unix time difference'].sum()/60\n",
    "\n",
    "\n",
    "    # Compilation of remaining normal transaction statistics\n",
    "    core_stats_TimeDiffbetweenfirstand_last = ((sample_df['timeStamp'].max()) - (sample_df['timeStamp'].min())) / 60\n",
    "    core_stats_TotalTransactions = len(sample_df)\n",
    "    core_stats_NumberofCreated_Contracts = len(sample_df[sample_df['contractAddress'] != ''])\n",
    "    core_stats_Avg_min_between_received_tnx = sample_df_time_dim['received']/ core_stats_Received_tnx\n",
    "    core_stats_Avg_min_between_sent_tnx = sample_df_time_dim['sent']/core_stats_Sent_tnx\n",
    "    core_stats_TotalEtherBalance = core_stats_TotalEtherReceived - core_stats_TotalEtherSent\n",
    "    compiled_normal_tnx_result = {'Address': address, 'FLAG': hacked,\n",
    "                                  'Avg min between sent tnx': core_stats_Avg_min_between_sent_tnx,\n",
    "                                 'Avg min between received tnx': core_stats_Avg_min_between_received_tnx,\n",
    "                                  'Time Diff between first and last (Mins)': core_stats_TimeDiffbetweenfirstand_last,\n",
    "                                  'Sent tnx': core_stats_Sent_tnx, 'Received Tnx': core_stats_Received_tnx,\n",
    "                                  'Number of Created Contracts': core_stats_NumberofCreated_Contracts,\n",
    "                                  'Unique Received From Addresses':core_stats_UniqueReceivedFrom_Addresses,\n",
    "                                  'Unique Sent To Addresses': core_stats_UniqueSentTo_Addresses,\n",
    "                                  'min value received': core_stats_MinValueReceived,\n",
    "                                  'max value received ': core_stats_MaxValueReceived,\n",
    "                                  'avg val received': core_stats_AvgValueReceived,\n",
    "                                  'min val sent': core_stats_MinValSent,\n",
    "                                  'max val sent': core_stats_MaxValSent,\n",
    "                                  'avg val sent': core_stats_AvgValSent ,\n",
    "                                  'min value sent to contract': core_stats_MinValueSentToContract,\n",
    "                                  'max val sent to contract': core_stats_MaxValueSentToContract,\n",
    "                                  'avg value sent to contract': core_stats_AvgValueSentToContract,\n",
    "                                  'total transactions (including tnx to create contract': core_stats_TotalTransactions,\n",
    "                                  'total Ether sent': core_stats_TotalEtherSent,\n",
    "                                  'total ether received': core_stats_TotalEtherReceived,\n",
    "                                  'total ether sent contracts': core_stats_TotalEtherSent_Contracts,\n",
    "                                  'total ether balance':core_stats_TotalEtherBalance}\n",
    "    return pd.DataFrame([compiled_normal_tnx_result])\n",
    "\n",
    "def get_empty_details_for_address(address, hacked):\n",
    "    compiled_empty_address = {\n",
    "          'Address': address, 'FLAG': hacked,\n",
    "          'Avg min between sent tnx': 0,\n",
    "         'Avg min between received tnx': 0,\n",
    "          'Time Diff between first and last (Mins)': 0,\n",
    "          'Sent tnx': 0, 'Received Tnx': 0,\n",
    "          'Number of Created Contracts': 0,\n",
    "          'Unique Received From Addresses':0,\n",
    "          'Unique Sent To Addresses': 0,\n",
    "          'min value received': 0,\n",
    "          'max value received ': 0,\n",
    "          'avg val received': 0,\n",
    "          'min val sent': 0,\n",
    "          'max val sent': 0,\n",
    "          'avg val sent': 0 ,\n",
    "          'min value sent to contract': 0,\n",
    "          'max val sent to contract': 0,\n",
    "          'avg value sent to contract': 0,\n",
    "          'total transactions (including tnx to create contract': 0,\n",
    "          'total Ether sent': 0,\n",
    "          'total ether received': 0,\n",
    "          'total ether sent contracts': 0,\n",
    "          'total ether balance':0\n",
    "    }\n",
    "    return pd.DataFrame([compiled_empty_address])\n",
    "\n"
   ]
  },
  {
   "cell_type": "markdown",
   "id": "5bf8f58e",
   "metadata": {},
   "source": [
    "# hacked"
   ]
  },
  {
   "cell_type": "code",
   "execution_count": 8,
   "id": "6efef516",
   "metadata": {},
   "outputs": [
    {
     "name": "stderr",
     "output_type": "stream",
     "text": [
      "  1%|▍                                          | 1/100 [00:05<09:13,  5.59s/it]"
     ]
    },
    {
     "name": "stdout",
     "output_type": "stream",
     "text": [
      "Address number 0: 0x00000000219ab540356cbb839cbe05303d7705fa mined! 0 txns retrieved. 0 total transactions.\n"
     ]
    },
    {
     "name": "stderr",
     "output_type": "stream",
     "text": [
      "\r",
      "  2%|▊                                          | 2/100 [00:11<09:45,  5.98s/it]"
     ]
    },
    {
     "name": "stdout",
     "output_type": "stream",
     "text": [
      "Address number 1: 0xc02aaa39b223fe8d0a0e5c4f27ead9083c756cc2 mined! 0 txns retrieved. 0 total transactions.\n"
     ]
    },
    {
     "name": "stderr",
     "output_type": "stream",
     "text": [
      "\r",
      "  3%|█▎                                         | 3/100 [00:14<06:55,  4.28s/it]"
     ]
    },
    {
     "name": "stdout",
     "output_type": "stream",
     "text": [
      "Address number 2: 0xbe0eb53f46cd790cd13851d5eff43d12404d33e8 mined! 1684 retrieved. 1684 total transactions.\n"
     ]
    },
    {
     "name": "stderr",
     "output_type": "stream",
     "text": [
      "\r",
      "  4%|█▋                                         | 4/100 [00:15<04:48,  3.00s/it]"
     ]
    },
    {
     "name": "stdout",
     "output_type": "stream",
     "text": [
      "Address number 3: 0x40b38765696e3d5d8d9d834d8aad4bb6e418e489 mined! 144 retrieved. 1828 total transactions.\n"
     ]
    },
    {
     "name": "stderr",
     "output_type": "stream",
     "text": [
      "\r",
      "  5%|██▏                                        | 5/100 [00:15<03:30,  2.21s/it]"
     ]
    },
    {
     "name": "stdout",
     "output_type": "stream",
     "text": [
      "Address number 4: 0x8315177ab297ba92a06054ce80a67ed4dbd7ed3a mined! 0 txns retrieved. 1828 total transactions.\n"
     ]
    },
    {
     "name": "stderr",
     "output_type": "stream",
     "text": [
      "\r",
      "  6%|██▌                                        | 6/100 [00:20<04:40,  2.98s/it]"
     ]
    },
    {
     "name": "stdout",
     "output_type": "stream",
     "text": [
      "Address number 5: 0xf977814e90da44bfa03b6295a0616a897441acec mined! 10000 retrieved. 11828 total transactions.\n"
     ]
    },
    {
     "name": "stderr",
     "output_type": "stream",
     "text": [
      "\r",
      "  7%|███                                        | 7/100 [00:24<05:11,  3.35s/it]"
     ]
    },
    {
     "name": "stdout",
     "output_type": "stream",
     "text": [
      "Address number 6: 0x49048044d57e1c92a77f79988d21fa8faf74e97e mined! 0 txns retrieved. 11828 total transactions.\n"
     ]
    },
    {
     "name": "stderr",
     "output_type": "stream",
     "text": [
      "\r",
      "  8%|███▍                                       | 8/100 [00:26<04:13,  2.75s/it]"
     ]
    },
    {
     "name": "stdout",
     "output_type": "stream",
     "text": [
      "Address number 7: 0xda9dfa130df4de4673b89022ee50ff26f6ea73cf mined! 513 retrieved. 12341 total transactions.\n"
     ]
    },
    {
     "name": "stderr",
     "output_type": "stream",
     "text": [
      "\r",
      "  9%|███▊                                       | 9/100 [00:27<03:24,  2.25s/it]"
     ]
    },
    {
     "name": "stdout",
     "output_type": "stream",
     "text": [
      "Address number 8: 0x47ac0fb4f2d84898e4d9e7b4dab3c24507a6d503 mined! 92 retrieved. 12433 total transactions.\n"
     ]
    },
    {
     "name": "stderr",
     "output_type": "stream",
     "text": [
      "\r",
      " 10%|████▏                                     | 10/100 [00:28<02:50,  1.90s/it]"
     ]
    },
    {
     "name": "stdout",
     "output_type": "stream",
     "text": [
      "Address number 9: 0xa6715eafe5d215b82cb9e90a9d6c8970a7c90033 mined! 191 retrieved. 12624 total transactions.\n"
     ]
    },
    {
     "name": "stderr",
     "output_type": "stream",
     "text": [
      "\r",
      " 11%|████▌                                     | 11/100 [00:35<05:20,  3.60s/it]"
     ]
    },
    {
     "name": "stdout",
     "output_type": "stream",
     "text": [
      "Address number 10: 0xbeb5fc579115071764c7423a4f12edde41f106ed mined! 0 txns retrieved. 12624 total transactions.\n"
     ]
    },
    {
     "name": "stderr",
     "output_type": "stream",
     "text": [
      "\r",
      " 12%|█████                                     | 12/100 [00:36<04:09,  2.84s/it]"
     ]
    },
    {
     "name": "stdout",
     "output_type": "stream",
     "text": [
      "Address number 11: 0xc61b9bb3a7a0767e3179713f3a5c7a9aedce193c mined! 0 txns retrieved. 12624 total transactions.\n"
     ]
    },
    {
     "name": "stderr",
     "output_type": "stream",
     "text": [
      "\r",
      " 13%|█████▍                                    | 13/100 [00:38<03:26,  2.38s/it]"
     ]
    },
    {
     "name": "stdout",
     "output_type": "stream",
     "text": [
      "Address number 12: 0xe92d1a43df510f82c66382592a047d288f85226f mined! 473 retrieved. 13097 total transactions.\n"
     ]
    },
    {
     "name": "stderr",
     "output_type": "stream",
     "text": [
      "\r",
      " 14%|█████▉                                    | 14/100 [00:39<03:06,  2.17s/it]"
     ]
    },
    {
     "name": "stdout",
     "output_type": "stream",
     "text": [
      "Address number 13: 0x61edcdf5bb737adffe5043706e7c5bb1f1a56eea mined! 0 txns retrieved. 13097 total transactions.\n"
     ]
    },
    {
     "name": "stderr",
     "output_type": "stream",
     "text": [
      "\r",
      " 15%|██████▎                                   | 15/100 [00:45<04:31,  3.19s/it]"
     ]
    },
    {
     "name": "stdout",
     "output_type": "stream",
     "text": [
      "Address number 14: 0x742d35cc6634c0532925a3b844bc454e4438f44e mined! 10000 retrieved. 23097 total transactions.\n"
     ]
    },
    {
     "name": "stderr",
     "output_type": "stream",
     "text": [
      "\r",
      " 16%|██████▋                                   | 16/100 [00:46<03:35,  2.57s/it]"
     ]
    },
    {
     "name": "stdout",
     "output_type": "stream",
     "text": [
      "Address number 15: 0xca8fa8f0b631ecdb18cda619c4fc9d197c8affca mined! 123 retrieved. 23220 total transactions.\n"
     ]
    },
    {
     "name": "stderr",
     "output_type": "stream",
     "text": [
      "\r",
      " 17%|███████▏                                  | 17/100 [00:49<03:55,  2.84s/it]"
     ]
    },
    {
     "name": "stdout",
     "output_type": "stream",
     "text": [
      "Address number 16: 0x0e58e8993100f1cbe45376c410f97f4893d9bfcd mined! 10000 retrieved. 33220 total transactions.\n"
     ]
    },
    {
     "name": "stderr",
     "output_type": "stream",
     "text": [
      "\r",
      " 18%|███████▌                                  | 18/100 [00:51<03:27,  2.53s/it]"
     ]
    },
    {
     "name": "stdout",
     "output_type": "stream",
     "text": [
      "Address number 17: 0x3bfc20f0b9afcace800d73d2191166ff16540258 mined! 0 txns retrieved. 33220 total transactions.\n"
     ]
    },
    {
     "name": "stderr",
     "output_type": "stream",
     "text": [
      "\r",
      " 19%|███████▉                                  | 19/100 [00:54<03:34,  2.64s/it]"
     ]
    },
    {
     "name": "stdout",
     "output_type": "stream",
     "text": [
      "Address number 18: 0x1db92e2eebc8e0c075a02bea49a2935bcd2dfcf4 mined! 0 txns retrieved. 33220 total transactions.\n"
     ]
    },
    {
     "name": "stderr",
     "output_type": "stream",
     "text": [
      "\r",
      " 20%|████████▍                                 | 20/100 [00:55<02:50,  2.13s/it]"
     ]
    },
    {
     "name": "stdout",
     "output_type": "stream",
     "text": [
      "Address number 19: 0x8103683202aa8da10536036edef04cdd865c225e mined! 61 retrieved. 33281 total transactions.\n"
     ]
    },
    {
     "name": "stderr",
     "output_type": "stream",
     "text": [
      "\r",
      " 21%|████████▊                                 | 21/100 [00:58<02:58,  2.26s/it]"
     ]
    },
    {
     "name": "stdout",
     "output_type": "stream",
     "text": [
      "Address number 20: 0xde0b295669a9fd93d5f28d9ec85e40f4cb697bae mined! 0 txns retrieved. 33281 total transactions.\n"
     ]
    },
    {
     "name": "stderr",
     "output_type": "stream",
     "text": [
      "\r",
      " 22%|█████████▏                                | 22/100 [00:59<02:41,  2.07s/it]"
     ]
    },
    {
     "name": "stdout",
     "output_type": "stream",
     "text": [
      "Address number 21: 0x8696e84ab5e78983f2456bcb5c199eea9648c8c2 mined! 744 retrieved. 34025 total transactions.\n"
     ]
    },
    {
     "name": "stderr",
     "output_type": "stream",
     "text": [
      "\r",
      " 23%|█████████▋                                | 23/100 [01:00<02:12,  1.73s/it]"
     ]
    },
    {
     "name": "stdout",
     "output_type": "stream",
     "text": [
      "Address number 22: 0x0a4c79ce84202b03e95b7a692e5d728d83c44c76 mined! 57 retrieved. 34082 total transactions.\n"
     ]
    },
    {
     "name": "stderr",
     "output_type": "stream",
     "text": [
      "\r",
      " 24%|██████████                                | 24/100 [01:01<01:56,  1.54s/it]"
     ]
    },
    {
     "name": "stdout",
     "output_type": "stream",
     "text": [
      "Address number 23: 0x2b6ed29a95753c3ad948348e3e7b1a251080ffb9 mined! 0 txns retrieved. 34082 total transactions.\n"
     ]
    },
    {
     "name": "stderr",
     "output_type": "stream",
     "text": [
      "\r",
      " 25%|██████████▌                               | 25/100 [01:02<01:40,  1.33s/it]"
     ]
    },
    {
     "name": "stdout",
     "output_type": "stream",
     "text": [
      "Address number 24: 0x539c92186f7c6cc4cbf443f26ef84c595babbca1 mined! 0 txns retrieved. 34082 total transactions.\n"
     ]
    },
    {
     "name": "stderr",
     "output_type": "stream",
     "text": [
      "\r",
      " 26%|██████████▉                               | 26/100 [01:03<01:29,  1.20s/it]"
     ]
    },
    {
     "name": "stdout",
     "output_type": "stream",
     "text": [
      "Address number 25: 0x868dab0b8e21ec0a48b726a1ccf25826c78c6d7f mined! 0 txns retrieved. 34082 total transactions.\n"
     ]
    },
    {
     "name": "stderr",
     "output_type": "stream",
     "text": [
      "\r",
      " 27%|███████████▎                              | 27/100 [01:04<01:19,  1.09s/it]"
     ]
    },
    {
     "name": "stdout",
     "output_type": "stream",
     "text": [
      "Address number 26: 0xbfbbfaccd1126a11b8f84c60b09859f80f3bd10f mined! 0 txns retrieved. 34082 total transactions.\n"
     ]
    },
    {
     "name": "stderr",
     "output_type": "stream",
     "text": [
      "\r",
      " 28%|███████████▊                              | 28/100 [01:05<01:18,  1.09s/it]"
     ]
    },
    {
     "name": "stdout",
     "output_type": "stream",
     "text": [
      "Address number 27: 0x1b3cb81e51011b549d78bf720b0d924ac763a7c2 mined! 216 retrieved. 34298 total transactions.\n"
     ]
    },
    {
     "name": "stderr",
     "output_type": "stream",
     "text": [
      "\r",
      " 29%|████████████▏                             | 29/100 [01:07<01:44,  1.47s/it]"
     ]
    },
    {
     "name": "stdout",
     "output_type": "stream",
     "text": [
      "Address number 28: 0x220866b1a2219f40e72f5c628b65d54268ca3a9d mined! 0 txns retrieved. 34298 total transactions.\n"
     ]
    },
    {
     "name": "stderr",
     "output_type": "stream",
     "text": [
      "\r",
      " 30%|████████████▌                             | 30/100 [01:09<01:40,  1.43s/it]"
     ]
    },
    {
     "name": "stdout",
     "output_type": "stream",
     "text": [
      "Address number 29: 0xafcd96e580138cfa2332c632e66308eacd45c5da mined! 0 txns retrieved. 34298 total transactions.\n"
     ]
    },
    {
     "name": "stderr",
     "output_type": "stream",
     "text": [
      "\r",
      " 31%|█████████████                             | 31/100 [01:11<02:03,  1.79s/it]"
     ]
    },
    {
     "name": "stdout",
     "output_type": "stream",
     "text": [
      "Address number 30: 0xd3a22590f8243f8e83ac230d1842c9af0404c4a1 mined! 592 retrieved. 34890 total transactions.\n"
     ]
    },
    {
     "name": "stderr",
     "output_type": "stream",
     "text": [
      "\r",
      " 32%|█████████████▍                            | 32/100 [01:13<01:49,  1.61s/it]"
     ]
    },
    {
     "name": "stdout",
     "output_type": "stream",
     "text": [
      "Address number 31: 0x0c23fc0ef06716d2f8ba19bc4bed56d045581f2d mined! 0 txns retrieved. 34890 total transactions.\n"
     ]
    },
    {
     "name": "stderr",
     "output_type": "stream",
     "text": [
      "\r",
      " 33%|█████████████▊                            | 33/100 [01:13<01:32,  1.37s/it]"
     ]
    },
    {
     "name": "stdout",
     "output_type": "stream",
     "text": [
      "Address number 32: 0xbf3aeb96e164ae67e763d9e050ff124e7c3fdd28 mined! 44 retrieved. 34934 total transactions.\n"
     ]
    },
    {
     "name": "stderr",
     "output_type": "stream",
     "text": [
      "\r",
      " 34%|██████████████▎                           | 34/100 [01:44<11:09, 10.15s/it]"
     ]
    },
    {
     "name": "stdout",
     "output_type": "stream",
     "text": [
      "Address number 33: 0x94dbf04e273d87e6d9bed68c616f43bf86560c74 mined! 10000 retrieved. 44934 total transactions.\n"
     ]
    },
    {
     "name": "stderr",
     "output_type": "stream",
     "text": [
      "\r",
      " 35%|██████████████▋                           | 35/100 [01:47<08:41,  8.03s/it]"
     ]
    },
    {
     "name": "stdout",
     "output_type": "stream",
     "text": [
      "Address number 34: 0xf3b0073e3a7f747c7a38b36b805247b222c302a3 mined! 10000 retrieved. 54934 total transactions.\n"
     ]
    },
    {
     "name": "stderr",
     "output_type": "stream",
     "text": [
      "\r",
      " 36%|███████████████                           | 36/100 [01:48<06:16,  5.89s/it]"
     ]
    },
    {
     "name": "stdout",
     "output_type": "stream",
     "text": [
      "Address number 35: 0x5b5b69f4e0add2df5d2176d7dbd20b4897bc7ec4 mined! 62 retrieved. 54996 total transactions.\n"
     ]
    },
    {
     "name": "stderr",
     "output_type": "stream",
     "text": [
      "\r",
      " 37%|███████████████▌                          | 37/100 [01:49<04:34,  4.36s/it]"
     ]
    },
    {
     "name": "stdout",
     "output_type": "stream",
     "text": [
      "Address number 36: 0x2f2d854c1d6d5bb8936bb85bc07c28ebb42c9b10 mined! 20 retrieved. 55016 total transactions.\n"
     ]
    },
    {
     "name": "stderr",
     "output_type": "stream",
     "text": [
      "\r",
      " 38%|███████████████▉                          | 38/100 [01:51<03:56,  3.82s/it]"
     ]
    },
    {
     "name": "stdout",
     "output_type": "stream",
     "text": [
      "Address number 37: 0xc882b111a75c0c657fc507c04fbfcd2cc984f071 mined! 2904 retrieved. 57920 total transactions.\n"
     ]
    },
    {
     "name": "stderr",
     "output_type": "stream",
     "text": [
      "\r",
      " 39%|████████████████▍                         | 39/100 [01:52<03:04,  3.02s/it]"
     ]
    },
    {
     "name": "stdout",
     "output_type": "stream",
     "text": [
      "Address number 38: 0x15c22df3e71e7380012668fb837c537d0f8b38a1 mined! 100 retrieved. 58020 total transactions.\n"
     ]
    },
    {
     "name": "stderr",
     "output_type": "stream",
     "text": [
      "\r",
      " 40%|████████████████▊                         | 40/100 [01:54<02:35,  2.60s/it]"
     ]
    },
    {
     "name": "stdout",
     "output_type": "stream",
     "text": [
      "Address number 39: 0x9e927c02c9eadae63f5efb0dd818943c7262fb8e mined! 690 retrieved. 58710 total transactions.\n"
     ]
    },
    {
     "name": "stderr",
     "output_type": "stream",
     "text": [
      "\r",
      " 41%|█████████████████▏                        | 41/100 [01:55<02:07,  2.16s/it]"
     ]
    },
    {
     "name": "stdout",
     "output_type": "stream",
     "text": [
      "Address number 40: 0x999e77c988c4c1451d3b1c104a6cca7813a9946e mined! 199 retrieved. 58909 total transactions.\n"
     ]
    },
    {
     "name": "stderr",
     "output_type": "stream",
     "text": [
      "\r",
      " 42%|█████████████████▋                        | 42/100 [01:56<01:44,  1.79s/it]"
     ]
    },
    {
     "name": "stdout",
     "output_type": "stream",
     "text": [
      "Address number 41: 0x8484ef722627bf18ca5ae6bcf031c23e6e922b30 mined! 0 txns retrieved. 58909 total transactions.\n"
     ]
    },
    {
     "name": "stderr",
     "output_type": "stream",
     "text": [
      "\r",
      " 43%|██████████████████                        | 43/100 [02:02<02:44,  2.89s/it]"
     ]
    },
    {
     "name": "stdout",
     "output_type": "stream",
     "text": [
      "Address number 42: 0xa160cdab225685da1d56aa342ad8841c3b53f291 mined! 0 txns retrieved. 58909 total transactions.\n"
     ]
    },
    {
     "name": "stderr",
     "output_type": "stream",
     "text": [
      "\r",
      " 44%|██████████████████▍                       | 44/100 [02:04<02:27,  2.64s/it]"
     ]
    },
    {
     "name": "stdout",
     "output_type": "stream",
     "text": [
      "Address number 43: 0x8d95842b0bca501446683be598e12f1c616770c1 mined! 0 txns retrieved. 58909 total transactions.\n"
     ]
    },
    {
     "name": "stderr",
     "output_type": "stream",
     "text": [
      "\r",
      " 45%|██████████████████▉                       | 45/100 [02:05<01:59,  2.18s/it]"
     ]
    },
    {
     "name": "stdout",
     "output_type": "stream",
     "text": [
      "Address number 44: 0x35aeed3aa9657abf8b847038bb591b51e1e4c69f mined! 0 txns retrieved. 58909 total transactions.\n"
     ]
    },
    {
     "name": "stderr",
     "output_type": "stream",
     "text": [
      "\r",
      " 46%|███████████████████▎                      | 46/100 [02:06<01:38,  1.83s/it]"
     ]
    },
    {
     "name": "stdout",
     "output_type": "stream",
     "text": [
      "Address number 45: 0xb93d8596ac840816bd366dc0561e8140afd0d1cb mined! 0 txns retrieved. 58909 total transactions.\n"
     ]
    },
    {
     "name": "stderr",
     "output_type": "stream",
     "text": [
      "\r",
      " 47%|███████████████████▋                      | 47/100 [02:11<02:36,  2.95s/it]"
     ]
    },
    {
     "name": "stdout",
     "output_type": "stream",
     "text": [
      "Address number 46: 0xd19d4b5d358258f05d7b411e21a1460d11b0876f mined! 0 txns retrieved. 58909 total transactions.\n"
     ]
    },
    {
     "name": "stderr",
     "output_type": "stream",
     "text": [
      "\r",
      " 48%|████████████████████▏                     | 48/100 [02:15<02:49,  3.26s/it]"
     ]
    },
    {
     "name": "stdout",
     "output_type": "stream",
     "text": [
      "Address number 47: 0xdf9eb223bafbe5c5271415c75aecd68c21fe3d7f mined! 0 txns retrieved. 58909 total transactions.\n"
     ]
    },
    {
     "name": "stderr",
     "output_type": "stream",
     "text": [
      "\r",
      " 49%|████████████████████▌                     | 49/100 [02:16<02:13,  2.61s/it]"
     ]
    },
    {
     "name": "stdout",
     "output_type": "stream",
     "text": [
      "Address number 48: 0xb5ab08d153218c1a6a5318b14eeb92df0fb168d6 mined! 292 retrieved. 59201 total transactions.\n"
     ]
    },
    {
     "name": "stderr",
     "output_type": "stream",
     "text": [
      "\r",
      " 50%|█████████████████████                     | 50/100 [02:18<01:48,  2.16s/it]"
     ]
    },
    {
     "name": "stdout",
     "output_type": "stream",
     "text": [
      "Address number 49: 0xdb3c617cdd2fbf0bb4309c325f47678e37f096d9 mined! 0 txns retrieved. 59201 total transactions.\n"
     ]
    },
    {
     "name": "stderr",
     "output_type": "stream",
     "text": [
      "\r",
      " 51%|█████████████████████▍                    | 51/100 [02:18<01:26,  1.77s/it]"
     ]
    },
    {
     "name": "stdout",
     "output_type": "stream",
     "text": [
      "Address number 50: 0x7ead3a4361bd26a20deb89c9470be368ee9cb6f1 mined! 0 txns retrieved. 59201 total transactions.\n"
     ]
    },
    {
     "name": "stderr",
     "output_type": "stream",
     "text": [
      "\r",
      " 52%|█████████████████████▊                    | 52/100 [02:19<01:12,  1.51s/it]"
     ]
    },
    {
     "name": "stdout",
     "output_type": "stream",
     "text": [
      "Address number 51: 0xd5268a476aadd1a6729df5b3e5e8f2c1004139af mined! 0 txns retrieved. 59201 total transactions.\n"
     ]
    },
    {
     "name": "stderr",
     "output_type": "stream",
     "text": [
      "\r",
      " 53%|██████████████████████▎                   | 53/100 [02:21<01:16,  1.62s/it]"
     ]
    },
    {
     "name": "stdout",
     "output_type": "stream",
     "text": [
      "Address number 52: 0xd47b4a4c6207b1ee0eb1dd4e5c46a19b50fec00b mined! 0 txns retrieved. 59201 total transactions.\n"
     ]
    },
    {
     "name": "stderr",
     "output_type": "stream",
     "text": [
      "\r",
      " 54%|██████████████████████▋                   | 54/100 [02:22<01:03,  1.38s/it]"
     ]
    },
    {
     "name": "stdout",
     "output_type": "stream",
     "text": [
      "Address number 53: 0xd65fb7d4cb595833e84c3c094bd4779bab0d4c62 mined! 0 txns retrieved. 59201 total transactions.\n"
     ]
    },
    {
     "name": "stderr",
     "output_type": "stream",
     "text": [
      "\r",
      " 55%|███████████████████████                   | 55/100 [02:23<00:58,  1.29s/it]"
     ]
    },
    {
     "name": "stdout",
     "output_type": "stream",
     "text": [
      "Address number 54: 0x595faf77e533a5cd30ab5859c9a0116de8bad8db mined! 0 txns retrieved. 59201 total transactions.\n"
     ]
    },
    {
     "name": "stderr",
     "output_type": "stream",
     "text": [
      "\r",
      " 56%|███████████████████████▌                  | 56/100 [02:24<00:51,  1.16s/it]"
     ]
    },
    {
     "name": "stdout",
     "output_type": "stream",
     "text": [
      "Address number 55: 0x1bd3fc5ac794e7af8e834a8a4d25b08acd9266ce mined! 0 txns retrieved. 59201 total transactions.\n"
     ]
    },
    {
     "name": "stderr",
     "output_type": "stream",
     "text": [
      "\r",
      " 57%|███████████████████████▉                  | 57/100 [02:25<00:45,  1.07s/it]"
     ]
    },
    {
     "name": "stdout",
     "output_type": "stream",
     "text": [
      "Address number 56: 0xf481b7fab9f5d0e74f21ae595a749634fb053619 mined! 0 txns retrieved. 59201 total transactions.\n"
     ]
    },
    {
     "name": "stderr",
     "output_type": "stream",
     "text": [
      "\r",
      " 58%|████████████████████████▎                 | 58/100 [02:26<00:42,  1.00s/it]"
     ]
    },
    {
     "name": "stdout",
     "output_type": "stream",
     "text": [
      "Address number 57: 0xa7c0d36c4698981fab42a7d8c783674c6fe2592d mined! 11 retrieved. 59212 total transactions.\n"
     ]
    },
    {
     "name": "stderr",
     "output_type": "stream",
     "text": [
      "\r",
      " 59%|████████████████████████▊                 | 59/100 [02:27<00:41,  1.02s/it]"
     ]
    },
    {
     "name": "stdout",
     "output_type": "stream",
     "text": [
      "Address number 58: 0xa7e4fecddc20d83f36971b67e13f1abc98dfcfa6 mined! 112 retrieved. 59324 total transactions.\n"
     ]
    },
    {
     "name": "stderr",
     "output_type": "stream",
     "text": [
      "\r",
      " 60%|█████████████████████████▏                | 60/100 [02:31<01:25,  2.14s/it]"
     ]
    },
    {
     "name": "stdout",
     "output_type": "stream",
     "text": [
      "Address number 59: 0x308861a430be4cce5502d0a12724771fc6daf216 mined! 0 txns retrieved. 59324 total transactions.\n"
     ]
    },
    {
     "name": "stderr",
     "output_type": "stream",
     "text": [
      "\r",
      " 61%|█████████████████████████▌                | 61/100 [02:32<01:08,  1.75s/it]"
     ]
    },
    {
     "name": "stdout",
     "output_type": "stream",
     "text": [
      "Address number 60: 0x79f67f689b9925710d4dda2a39d680e9cea61c81 mined! 0 txns retrieved. 59324 total transactions.\n"
     ]
    },
    {
     "name": "stderr",
     "output_type": "stream",
     "text": [
      "\r",
      " 62%|██████████████████████████                | 62/100 [02:33<00:59,  1.57s/it]"
     ]
    },
    {
     "name": "stdout",
     "output_type": "stream",
     "text": [
      "Address number 61: 0x368d43c23843ca9b49dc861d80251bda6a090367 mined! 0 txns retrieved. 59324 total transactions.\n"
     ]
    },
    {
     "name": "stderr",
     "output_type": "stream",
     "text": [
      "\r",
      " 63%|██████████████████████████▍               | 63/100 [02:35<00:54,  1.47s/it]"
     ]
    },
    {
     "name": "stdout",
     "output_type": "stream",
     "text": [
      "Address number 62: 0x2d1566722288be5525b548a642c98b546f116aa0 mined! 0 txns retrieved. 59324 total transactions.\n"
     ]
    },
    {
     "name": "stderr",
     "output_type": "stream",
     "text": [
      "\r",
      " 64%|██████████████████████████▉               | 64/100 [02:36<00:48,  1.34s/it]"
     ]
    },
    {
     "name": "stdout",
     "output_type": "stream",
     "text": [
      "Address number 63: 0xb4f4317b7885de16305d1303570879c21f378255 mined! 0 txns retrieved. 59324 total transactions.\n"
     ]
    },
    {
     "name": "stderr",
     "output_type": "stream",
     "text": [
      "\r",
      " 65%|███████████████████████████▎              | 65/100 [02:37<00:44,  1.27s/it]"
     ]
    },
    {
     "name": "stdout",
     "output_type": "stream",
     "text": [
      "Address number 64: 0x84bf16e7675cee22d0e0302913ccf58b45333ddf mined! 0 txns retrieved. 59324 total transactions.\n"
     ]
    },
    {
     "name": "stderr",
     "output_type": "stream",
     "text": [
      "\r",
      " 66%|███████████████████████████▋              | 66/100 [02:38<00:39,  1.17s/it]"
     ]
    },
    {
     "name": "stdout",
     "output_type": "stream",
     "text": [
      "Address number 65: 0x6d9d2b30df394f17a5058aceb9a4d3446f1bc042 mined! 0 txns retrieved. 59324 total transactions.\n"
     ]
    },
    {
     "name": "stderr",
     "output_type": "stream",
     "text": [
      "\r",
      " 67%|████████████████████████████▏             | 67/100 [02:39<00:38,  1.16s/it]"
     ]
    },
    {
     "name": "stdout",
     "output_type": "stream",
     "text": [
      "Address number 66: 0xf443864ba5d5361bbc54298551067194f980a635 mined! 0 txns retrieved. 59324 total transactions.\n"
     ]
    },
    {
     "name": "stderr",
     "output_type": "stream",
     "text": [
      "\r",
      " 68%|████████████████████████████▌             | 68/100 [02:40<00:35,  1.12s/it]"
     ]
    },
    {
     "name": "stdout",
     "output_type": "stream",
     "text": [
      "Address number 67: 0x835678a611b28684005a5e2233695fb6cbbb0007 mined! 164 retrieved. 59488 total transactions.\n"
     ]
    },
    {
     "name": "stderr",
     "output_type": "stream",
     "text": [
      "\r",
      " 69%|████████████████████████████▉             | 69/100 [02:41<00:35,  1.13s/it]"
     ]
    },
    {
     "name": "stdout",
     "output_type": "stream",
     "text": [
      "Address number 68: 0xa1a45e91164cdab8fa596809a9b24f8d4fdbe0f3 mined! 147 retrieved. 59635 total transactions.\n"
     ]
    },
    {
     "name": "stderr",
     "output_type": "stream",
     "text": [
      "\r",
      " 70%|█████████████████████████████▍            | 70/100 [02:42<00:32,  1.08s/it]"
     ]
    },
    {
     "name": "stdout",
     "output_type": "stream",
     "text": [
      "Address number 69: 0x376c3e5547c68bc26240d8dcc6729fff665a4448 mined! 0 txns retrieved. 59635 total transactions.\n"
     ]
    },
    {
     "name": "stderr",
     "output_type": "stream",
     "text": [
      "\r",
      " 71%|█████████████████████████████▊            | 71/100 [02:43<00:34,  1.17s/it]"
     ]
    },
    {
     "name": "stdout",
     "output_type": "stream",
     "text": [
      "Address number 70: 0x73af3bcf944a6559933396c1577b257e2054d935 mined! 390 retrieved. 60025 total transactions.\n"
     ]
    },
    {
     "name": "stderr",
     "output_type": "stream",
     "text": [
      "\r",
      " 72%|██████████████████████████████▏           | 72/100 [02:44<00:30,  1.08s/it]"
     ]
    },
    {
     "name": "stdout",
     "output_type": "stream",
     "text": [
      "Address number 71: 0x558553d54183a8542f7832742e7b4ba9c33aa1e6 mined! 64 retrieved. 60089 total transactions.\n"
     ]
    },
    {
     "name": "stderr",
     "output_type": "stream",
     "text": [
      "\r",
      " 73%|██████████████████████████████▋           | 73/100 [02:45<00:29,  1.08s/it]"
     ]
    },
    {
     "name": "stdout",
     "output_type": "stream",
     "text": [
      "Address number 72: 0x3f6a6f3b1bf064296a5880c0102d2c4e7d383932 mined! 88 retrieved. 60177 total transactions.\n"
     ]
    },
    {
     "name": "stderr",
     "output_type": "stream",
     "text": [
      "\r",
      " 74%|███████████████████████████████           | 74/100 [02:46<00:27,  1.06s/it]"
     ]
    },
    {
     "name": "stdout",
     "output_type": "stream",
     "text": [
      "Address number 73: 0x084ef8564b4f75a70b7ad5e8aabf73edac005397 mined! 0 txns retrieved. 60177 total transactions.\n"
     ]
    },
    {
     "name": "stderr",
     "output_type": "stream",
     "text": [
      "\r",
      " 75%|███████████████████████████████▌          | 75/100 [02:47<00:26,  1.06s/it]"
     ]
    },
    {
     "name": "stdout",
     "output_type": "stream",
     "text": [
      "Address number 74: 0xcac9c634b4464efe71a9a5910edba06686baf457 mined! 0 txns retrieved. 60177 total transactions.\n"
     ]
    },
    {
     "name": "stderr",
     "output_type": "stream",
     "text": [
      "\r",
      " 76%|███████████████████████████████▉          | 76/100 [02:48<00:23,  1.00it/s]"
     ]
    },
    {
     "name": "stdout",
     "output_type": "stream",
     "text": [
      "Address number 75: 0x04b7f4195595d8132dd8249cc8dc7e79a6ae772b mined! 0 txns retrieved. 60177 total transactions.\n"
     ]
    },
    {
     "name": "stderr",
     "output_type": "stream",
     "text": [
      "\r",
      " 77%|████████████████████████████████▎         | 77/100 [02:49<00:22,  1.04it/s]"
     ]
    },
    {
     "name": "stdout",
     "output_type": "stream",
     "text": [
      "Address number 76: 0xff2ac8c5834a7585fcc97edb8ba2431c4beab487 mined! 0 txns retrieved. 60177 total transactions.\n"
     ]
    },
    {
     "name": "stderr",
     "output_type": "stream",
     "text": [
      "\r",
      " 78%|████████████████████████████████▊         | 78/100 [02:50<00:23,  1.05s/it]"
     ]
    },
    {
     "name": "stdout",
     "output_type": "stream",
     "text": [
      "Address number 77: 0x4ed97d6470f5121a8e02498ea37a50987da0eec0 mined! 0 txns retrieved. 60177 total transactions.\n"
     ]
    },
    {
     "name": "stderr",
     "output_type": "stream",
     "text": [
      "\r",
      " 79%|█████████████████████████████████▏        | 79/100 [02:51<00:21,  1.01s/it]"
     ]
    },
    {
     "name": "stdout",
     "output_type": "stream",
     "text": [
      "Address number 78: 0x7aacfab03940202ce8c37e3aed3718fe3a37b007 mined! 0 txns retrieved. 60177 total transactions.\n"
     ]
    },
    {
     "name": "stderr",
     "output_type": "stream",
     "text": [
      "\r",
      " 80%|█████████████████████████████████▌        | 80/100 [02:53<00:22,  1.11s/it]"
     ]
    },
    {
     "name": "stdout",
     "output_type": "stream",
     "text": [
      "Address number 79: 0x6e414cfad874d8ee716ea0299d40011207c907b8 mined! 0 txns retrieved. 60177 total transactions.\n"
     ]
    },
    {
     "name": "stderr",
     "output_type": "stream",
     "text": [
      "\r",
      " 81%|██████████████████████████████████        | 81/100 [02:54<00:19,  1.05s/it]"
     ]
    },
    {
     "name": "stdout",
     "output_type": "stream",
     "text": [
      "Address number 80: 0x19bf56fca395a600c20f732b05757f30ad24a719 mined! 0 txns retrieved. 60177 total transactions.\n"
     ]
    },
    {
     "name": "stderr",
     "output_type": "stream",
     "text": [
      "\r",
      " 82%|██████████████████████████████████▍       | 82/100 [02:55<00:18,  1.01s/it]"
     ]
    },
    {
     "name": "stdout",
     "output_type": "stream",
     "text": [
      "Address number 81: 0xfcd159d0fef5b1003e10d91a5b79d52bbb8cd05d mined! 0 txns retrieved. 60177 total transactions.\n"
     ]
    },
    {
     "name": "stderr",
     "output_type": "stream",
     "text": [
      "\r",
      " 83%|██████████████████████████████████▊       | 83/100 [02:55<00:16,  1.04it/s]"
     ]
    },
    {
     "name": "stdout",
     "output_type": "stream",
     "text": [
      "Address number 82: 0x8ae880b5d35305da48b63ce3e52b22d17859f293 mined! 10 retrieved. 60187 total transactions.\n"
     ]
    },
    {
     "name": "stderr",
     "output_type": "stream",
     "text": [
      "\r",
      " 84%|███████████████████████████████████▎      | 84/100 [02:56<00:14,  1.07it/s]"
     ]
    },
    {
     "name": "stdout",
     "output_type": "stream",
     "text": [
      "Address number 83: 0xa463597d49f54fe6a811fb894cbd67c7f92852b0 mined! 0 txns retrieved. 60187 total transactions.\n"
     ]
    },
    {
     "name": "stderr",
     "output_type": "stream",
     "text": [
      "\r",
      " 85%|███████████████████████████████████▋      | 85/100 [02:57<00:13,  1.10it/s]"
     ]
    },
    {
     "name": "stdout",
     "output_type": "stream",
     "text": [
      "Address number 84: 0x5a710a3cdf2af218740384c52a10852d8870626a mined! 0 txns retrieved. 60187 total transactions.\n"
     ]
    },
    {
     "name": "stderr",
     "output_type": "stream",
     "text": [
      "\r",
      " 86%|████████████████████████████████████      | 86/100 [02:58<00:14,  1.03s/it]"
     ]
    },
    {
     "name": "stdout",
     "output_type": "stream",
     "text": [
      "Address number 85: 0x7f1502605a2f2cc01f9f4e7dd55e549954a8cd0c mined! 257 retrieved. 60444 total transactions.\n"
     ]
    },
    {
     "name": "stderr",
     "output_type": "stream",
     "text": [
      "\r",
      " 87%|████████████████████████████████████▌     | 87/100 [03:02<00:21,  1.69s/it]"
     ]
    },
    {
     "name": "stdout",
     "output_type": "stream",
     "text": [
      "Address number 86: 0xd7f9f54194c633f36ccd5f3da84ad4a1c38cb2cb mined! 0 txns retrieved. 60444 total transactions.\n"
     ]
    },
    {
     "name": "stderr",
     "output_type": "stream",
     "text": [
      "\r",
      " 88%|████████████████████████████████████▉     | 88/100 [03:02<00:17,  1.44s/it]"
     ]
    },
    {
     "name": "stdout",
     "output_type": "stream",
     "text": [
      "Address number 87: 0xbed96d0840201011df1467379a5d311e0040073a mined! 0 txns retrieved. 60444 total transactions.\n"
     ]
    },
    {
     "name": "stderr",
     "output_type": "stream",
     "text": [
      "\r",
      " 89%|█████████████████████████████████████▍    | 89/100 [03:07<00:27,  2.50s/it]"
     ]
    },
    {
     "name": "stdout",
     "output_type": "stream",
     "text": [
      "Address number 88: 0x4eac9ce57af61a6fb1f61f0bf1d8586412be30bc mined! 14 retrieved. 60458 total transactions.\n"
     ]
    },
    {
     "name": "stderr",
     "output_type": "stream",
     "text": [
      "\r",
      " 90%|█████████████████████████████████████▊    | 90/100 [03:08<00:20,  2.00s/it]"
     ]
    },
    {
     "name": "stdout",
     "output_type": "stream",
     "text": [
      "Address number 89: 0x76ae5632ae65d95dd704218920f7d8ac4daef9cc mined! 35 retrieved. 60493 total transactions.\n"
     ]
    },
    {
     "name": "stderr",
     "output_type": "stream",
     "text": [
      "\r",
      " 91%|██████████████████████████████████████▏   | 91/100 [03:09<00:14,  1.65s/it]"
     ]
    },
    {
     "name": "stdout",
     "output_type": "stream",
     "text": [
      "Address number 90: 0x67f706db3bbd04a250eed049386c5d09c4ee31f0 mined! 38 retrieved. 60531 total transactions.\n"
     ]
    },
    {
     "name": "stderr",
     "output_type": "stream",
     "text": [
      "\r",
      " 92%|██████████████████████████████████████▋   | 92/100 [03:10<00:11,  1.40s/it]"
     ]
    },
    {
     "name": "stdout",
     "output_type": "stream",
     "text": [
      "Address number 91: 0xd9858d573a26bca124282afa21ca4f4a06eff98a mined! 12 retrieved. 60543 total transactions.\n"
     ]
    },
    {
     "name": "stderr",
     "output_type": "stream",
     "text": [
      "\r",
      " 93%|███████████████████████████████████████   | 93/100 [03:11<00:08,  1.23s/it]"
     ]
    },
    {
     "name": "stdout",
     "output_type": "stream",
     "text": [
      "Address number 92: 0x4fdd5eb2fb260149a3903859043e962ab89d8ed4 mined! 0 txns retrieved. 60543 total transactions.\n"
     ]
    },
    {
     "name": "stderr",
     "output_type": "stream",
     "text": [
      "\r",
      " 94%|███████████████████████████████████████▍  | 94/100 [03:12<00:06,  1.13s/it]"
     ]
    },
    {
     "name": "stdout",
     "output_type": "stream",
     "text": [
      "Address number 93: 0xd8d98ee915a5a4f52c40d97fcd8ffadea1ee8604 mined! 11 retrieved. 60554 total transactions.\n"
     ]
    },
    {
     "name": "stderr",
     "output_type": "stream",
     "text": [
      "\r",
      " 95%|███████████████████████████████████████▉  | 95/100 [03:13<00:05,  1.07s/it]"
     ]
    },
    {
     "name": "stdout",
     "output_type": "stream",
     "text": [
      "Address number 94: 0x2d89034424db22c9c555f14692a181b22b17e42c mined! 0 txns retrieved. 60554 total transactions.\n"
     ]
    },
    {
     "name": "stderr",
     "output_type": "stream",
     "text": [
      "\r",
      " 96%|████████████████████████████████████████▎ | 96/100 [03:13<00:04,  1.00s/it]"
     ]
    },
    {
     "name": "stdout",
     "output_type": "stream",
     "text": [
      "Address number 95: 0x40f50e8352d64af0ddda6ad6c94b5774884687c3 mined! 0 txns retrieved. 60554 total transactions.\n"
     ]
    },
    {
     "name": "stderr",
     "output_type": "stream",
     "text": [
      "\r",
      " 97%|████████████████████████████████████████▋ | 97/100 [03:14<00:03,  1.00s/it]"
     ]
    },
    {
     "name": "stdout",
     "output_type": "stream",
     "text": [
      "Address number 96: 0x36b6751586614d647d8a3f495e82bdcf250914c8 mined! 0 txns retrieved. 60554 total transactions.\n"
     ]
    },
    {
     "name": "stderr",
     "output_type": "stream",
     "text": [
      "\r",
      " 98%|█████████████████████████████████████████▏| 98/100 [03:15<00:01,  1.03it/s]"
     ]
    },
    {
     "name": "stdout",
     "output_type": "stream",
     "text": [
      "Address number 97: 0xe9a5a2acfa9bee149ed28fcbf12b60ff2ad97efb mined! 0 txns retrieved. 60554 total transactions.\n"
     ]
    },
    {
     "name": "stderr",
     "output_type": "stream",
     "text": [
      "\r",
      " 99%|█████████████████████████████████████████▌| 99/100 [03:16<00:00,  1.08it/s]"
     ]
    },
    {
     "name": "stdout",
     "output_type": "stream",
     "text": [
      "Address number 98: 0xe93fc974908003faddf0bd972b05b6494368d3f5 mined! 0 txns retrieved. 60554 total transactions.\n"
     ]
    },
    {
     "name": "stderr",
     "output_type": "stream",
     "text": [
      "100%|█████████████████████████████████████████| 100/100 [03:17<00:00,  1.98s/it]"
     ]
    },
    {
     "name": "stdout",
     "output_type": "stream",
     "text": [
      "Address number 99: 0x303c741bb15c9c4b1c72320f6df702b32da80519 mined! 0 txns retrieved. 60554 total transactions.\n"
     ]
    },
    {
     "name": "stderr",
     "output_type": "stream",
     "text": [
      "\n"
     ]
    }
   ],
   "source": [
    "write_to_file = './address_data.csv'\n",
    "\n",
    "base_df = pd.DataFrame()\n",
    "total_transactions = 0\n",
    "for i in tqdm(range(len(list_of_address))): #\n",
    "    a = list_of_address[i]\n",
    "    try:\n",
    "        if i==0:\n",
    "            base_df = get_address_stats_normal_tnx(a,hacked=1)\n",
    "            base_df.to_csv(write_to_file,mode='w',index=False, header=True)\n",
    "            itxns = base_df.loc[0,'total transactions (including tnx to create contract']\n",
    "            total_transactions = itxns\n",
    "            print(\"Address number {}: {} mined! {} retrieved. {} total transactions.\".format(i,a,itxns,total_transactions))\n",
    "        else:\n",
    "            cand_df = get_address_stats_normal_tnx(a,hacked=1)\n",
    "            cand_df.to_csv(write_to_file,mode='a', index=False,header=False)\n",
    "            base_df = pd.concat([base_df, cand_df])\n",
    "            itxns = cand_df.loc[0,'total transactions (including tnx to create contract']\n",
    "            total_transactions = total_transactions + itxns\n",
    "            print(\"Address number {}: {} mined! {} retrieved. {} total transactions.\".format(i,a,itxns,total_transactions))\n",
    "\n",
    "    except:\n",
    "        cand_df = get_empty_details_for_address(a,hacked=1)\n",
    "        base_df = pd.concat([base_df, cand_df])\n",
    "        cand_df.to_csv(write_to_file,mode='a',index=False,header=False)\n",
    "        print(\"Address number {}: {} mined! 0 txns retrieved. {} total transactions.\".format(i,a,total_transactions))\n",
    "\n",
    "base_df = base_df.reset_index(drop=True)\n",
    "\n"
   ]
  },
  {
   "cell_type": "markdown",
   "id": "0da56baa",
   "metadata": {},
   "source": [
    "# non hack "
   ]
  },
  {
   "cell_type": "code",
   "execution_count": null,
   "id": "28657d47",
   "metadata": {},
   "outputs": [
    {
     "name": "stderr",
     "output_type": "stream",
     "text": [
      "  1%|▍                                          | 1/100 [00:01<02:32,  1.54s/it]"
     ]
    },
    {
     "name": "stdout",
     "output_type": "stream",
     "text": [
      "Address number 0: 0xe6182a6aa6513e24232690f3db97b5535baa3ea4 mined! 199 retrieved. 199 total transactions.\n"
     ]
    },
    {
     "name": "stderr",
     "output_type": "stream",
     "text": [
      "\r",
      "  2%|▊                                          | 2/100 [00:04<04:15,  2.61s/it]"
     ]
    },
    {
     "name": "stdout",
     "output_type": "stream",
     "text": [
      "Address number 1: 0xbab2f87bcc50b8abc542ed3bf152043f74f6910d mined! 4802 retrieved. 5001 total transactions.\n"
     ]
    },
    {
     "name": "stderr",
     "output_type": "stream",
     "text": [
      "\r",
      "  3%|█▎                                         | 3/100 [00:05<03:02,  1.88s/it]"
     ]
    },
    {
     "name": "stdout",
     "output_type": "stream",
     "text": [
      "Address number 2: 0xf658c7147450391dd36e6f225b8164c93378e644 mined! 0 txns retrieved. 5001 total transactions.\n"
     ]
    },
    {
     "name": "stderr",
     "output_type": "stream",
     "text": [
      "\r",
      "  4%|█▋                                         | 4/100 [00:07<03:07,  1.95s/it]"
     ]
    },
    {
     "name": "stdout",
     "output_type": "stream",
     "text": [
      "Address number 3: 0xbcebc053f8a155d41bd1da73335e3c90f6f69bf3 mined! 910 retrieved. 5911 total transactions.\n"
     ]
    },
    {
     "name": "stderr",
     "output_type": "stream",
     "text": [
      "\r",
      "  5%|██▏                                        | 5/100 [00:09<02:34,  1.63s/it]"
     ]
    },
    {
     "name": "stdout",
     "output_type": "stream",
     "text": [
      "Address number 4: 0xa01a52b29c87e565bbd00a6981e4abba820545d0 mined! 127 retrieved. 6038 total transactions.\n"
     ]
    },
    {
     "name": "stderr",
     "output_type": "stream",
     "text": [
      "\r",
      "  6%|██▌                                        | 6/100 [00:10<02:16,  1.45s/it]"
     ]
    },
    {
     "name": "stdout",
     "output_type": "stream",
     "text": [
      "Address number 5: 0xcd8fcc9f20f1ef33682da0e6002c31dee9014dd8 mined! 71 retrieved. 6109 total transactions.\n"
     ]
    },
    {
     "name": "stderr",
     "output_type": "stream",
     "text": [
      "\r",
      "  7%|███                                        | 7/100 [00:11<02:22,  1.53s/it]"
     ]
    },
    {
     "name": "stdout",
     "output_type": "stream",
     "text": [
      "Address number 6: 0x728980a9eebf431857502543600252b23fd65696 mined! 766 retrieved. 6875 total transactions.\n"
     ]
    },
    {
     "name": "stderr",
     "output_type": "stream",
     "text": [
      "\r",
      "  8%|███▍                                       | 8/100 [00:13<02:10,  1.42s/it]"
     ]
    },
    {
     "name": "stdout",
     "output_type": "stream",
     "text": [
      "Address number 7: 0x2229fbcea135c9278d1f21639cf2b4b18cd3112a mined! 49 retrieved. 6924 total transactions.\n"
     ]
    },
    {
     "name": "stderr",
     "output_type": "stream",
     "text": [
      "\r",
      "  9%|███▊                                       | 9/100 [00:19<04:23,  2.90s/it]"
     ]
    },
    {
     "name": "stdout",
     "output_type": "stream",
     "text": [
      "Address number 8: 0x346c802df3404bec2f265603db28b815321251ee mined! 10000 retrieved. 16924 total transactions.\n"
     ]
    },
    {
     "name": "stderr",
     "output_type": "stream",
     "text": [
      "\r",
      " 10%|████▏                                     | 10/100 [00:23<05:06,  3.41s/it]"
     ]
    },
    {
     "name": "stdout",
     "output_type": "stream",
     "text": [
      "Address number 9: 0x95222290dd7278aa3ddd389cc1e1d165cc4bafe5 mined! 10000 retrieved. 26924 total transactions.\n"
     ]
    },
    {
     "name": "stderr",
     "output_type": "stream",
     "text": [
      "\r",
      " 11%|████▌                                     | 11/100 [00:29<05:58,  4.03s/it]"
     ]
    },
    {
     "name": "stdout",
     "output_type": "stream",
     "text": [
      "Address number 10: 0x8686301a430112d76fef8331821aef42c8c48686 mined! 8225 retrieved. 35149 total transactions.\n"
     ]
    },
    {
     "name": "stderr",
     "output_type": "stream",
     "text": [
      "\r",
      " 12%|█████                                     | 12/100 [00:31<05:10,  3.52s/it]"
     ]
    },
    {
     "name": "stdout",
     "output_type": "stream",
     "text": [
      "Address number 11: 0xcdd321a7cb3f0d92e08e434668b3433d574acd84 mined! 2819 retrieved. 37968 total transactions.\n"
     ]
    },
    {
     "name": "stderr",
     "output_type": "stream",
     "text": [
      "\r",
      " 13%|█████▍                                    | 13/100 [00:33<04:15,  2.94s/it]"
     ]
    },
    {
     "name": "stdout",
     "output_type": "stream",
     "text": [
      "Address number 12: 0x0feb84308ad3af33b48e343aa9fd11c3d3822a58 mined! 711 retrieved. 38679 total transactions.\n"
     ]
    },
    {
     "name": "stderr",
     "output_type": "stream",
     "text": [
      "\r",
      " 14%|█████▉                                    | 14/100 [00:36<04:34,  3.19s/it]"
     ]
    },
    {
     "name": "stdout",
     "output_type": "stream",
     "text": [
      "Address number 13: 0x19ea5b1d24f5dadf2c26b0662ac55415cbec12aa mined! 1244 retrieved. 39923 total transactions.\n"
     ]
    },
    {
     "name": "stderr",
     "output_type": "stream",
     "text": [
      "\r",
      " 15%|██████▎                                   | 15/100 [00:38<03:56,  2.78s/it]"
     ]
    },
    {
     "name": "stdout",
     "output_type": "stream",
     "text": [
      "Address number 14: 0xf4de4a2f598a67826664c94a684ef6a4580a9a51 mined! 1065 retrieved. 40988 total transactions.\n"
     ]
    },
    {
     "name": "stderr",
     "output_type": "stream",
     "text": [
      "\r",
      " 16%|██████▋                                   | 16/100 [00:40<03:28,  2.48s/it]"
     ]
    },
    {
     "name": "stdout",
     "output_type": "stream",
     "text": [
      "Address number 15: 0x19ea5b1d24f5dadf2c26b0662ac55415cbec12aa mined! 1244 retrieved. 42232 total transactions.\n"
     ]
    },
    {
     "name": "stderr",
     "output_type": "stream",
     "text": [
      "\r",
      " 17%|███████▏                                  | 17/100 [00:41<03:00,  2.18s/it]"
     ]
    },
    {
     "name": "stdout",
     "output_type": "stream",
     "text": [
      "Address number 16: 0x8f2331e328b789a0093a034f157fffeb10b5e5b1 mined! 291 retrieved. 42523 total transactions.\n"
     ]
    },
    {
     "name": "stderr",
     "output_type": "stream",
     "text": [
      "\r",
      " 18%|███████▌                                  | 18/100 [00:42<02:24,  1.76s/it]"
     ]
    },
    {
     "name": "stdout",
     "output_type": "stream",
     "text": [
      "Address number 17: 0xcf64fa20a589da06984619e07dca8a693e5b5bb8 mined! 18 retrieved. 42541 total transactions.\n"
     ]
    },
    {
     "name": "stderr",
     "output_type": "stream",
     "text": [
      "\r",
      " 19%|███████▉                                  | 19/100 [00:44<02:17,  1.69s/it]"
     ]
    },
    {
     "name": "stdout",
     "output_type": "stream",
     "text": [
      "Address number 18: 0xac407c128b566453ae454945e09ab32f0b42c501 mined! 464 retrieved. 43005 total transactions.\n"
     ]
    },
    {
     "name": "stderr",
     "output_type": "stream",
     "text": [
      "\r",
      " 20%|████████▍                                 | 20/100 [00:45<01:55,  1.45s/it]"
     ]
    },
    {
     "name": "stdout",
     "output_type": "stream",
     "text": [
      "Address number 19: 0x58fe37dc47c883f4511d46bbe5550e40d6b0c384 mined! 11 retrieved. 43016 total transactions.\n"
     ]
    },
    {
     "name": "stderr",
     "output_type": "stream",
     "text": [
      "\r",
      " 21%|████████▊                                 | 21/100 [00:46<01:40,  1.28s/it]"
     ]
    },
    {
     "name": "stdout",
     "output_type": "stream",
     "text": [
      "Address number 20: 0x9ba1f926e1686d5077bde5a95e7a18c8d463ef96 mined! 5 retrieved. 43021 total transactions.\n"
     ]
    },
    {
     "name": "stderr",
     "output_type": "stream",
     "text": [
      "\r",
      " 22%|█████████▏                                | 22/100 [01:19<14:04, 10.83s/it]"
     ]
    },
    {
     "name": "stdout",
     "output_type": "stream",
     "text": [
      "Address number 21: 0xc1b634853cb333d3ad8663715b08f41a3aec47cc mined! 0 txns retrieved. 43021 total transactions.\n"
     ]
    },
    {
     "name": "stderr",
     "output_type": "stream",
     "text": [
      "\r",
      " 23%|█████████▋                                | 23/100 [01:20<10:08,  7.90s/it]"
     ]
    },
    {
     "name": "stdout",
     "output_type": "stream",
     "text": [
      "Address number 22: 0x24896f29bf85b1ef3e801b9aeb4078e2e5f019b7 mined! 107 retrieved. 43128 total transactions.\n"
     ]
    },
    {
     "name": "stderr",
     "output_type": "stream",
     "text": [
      "\r",
      " 24%|██████████                                | 24/100 [01:27<09:47,  7.74s/it]"
     ]
    },
    {
     "name": "stdout",
     "output_type": "stream",
     "text": [
      "Address number 23: 0xba9a3c0a22baebe8c4926227bde32d6edc0d5d28 mined! 10000 retrieved. 53128 total transactions.\n"
     ]
    },
    {
     "name": "stderr",
     "output_type": "stream",
     "text": [
      "\r",
      " 25%|██████████▌                               | 25/100 [01:29<07:21,  5.88s/it]"
     ]
    },
    {
     "name": "stdout",
     "output_type": "stream",
     "text": [
      "Address number 24: 0x7d82de6d4483e30b9263dff6124575b48be7d1bd mined! 346 retrieved. 53474 total transactions.\n"
     ]
    },
    {
     "name": "stderr",
     "output_type": "stream",
     "text": [
      "\r",
      " 26%|██████████▉                               | 26/100 [01:33<06:31,  5.29s/it]"
     ]
    },
    {
     "name": "stdout",
     "output_type": "stream",
     "text": [
      "Address number 25: 0xd583d5b2908992c6dcaf2e2473a7896fe3df9253 mined! 7781 retrieved. 61255 total transactions.\n"
     ]
    },
    {
     "name": "stderr",
     "output_type": "stream",
     "text": [
      "\r",
      " 27%|███████████▎                              | 27/100 [01:34<04:53,  4.02s/it]"
     ]
    },
    {
     "name": "stdout",
     "output_type": "stream",
     "text": [
      "Address number 26: 0x135c29b4152bd66a6570076e18d6095b50f92741 mined! 116 retrieved. 61371 total transactions.\n"
     ]
    },
    {
     "name": "stderr",
     "output_type": "stream",
     "text": [
      "\r",
      " 28%|███████████▊                              | 28/100 [01:34<03:28,  2.89s/it]"
     ]
    },
    {
     "name": "stdout",
     "output_type": "stream",
     "text": [
      "Address number 27: 0x5c75316f32dfa2a277493ce7b5de144adb6751a4 mined! 0 txns retrieved. 61371 total transactions.\n"
     ]
    },
    {
     "name": "stderr",
     "output_type": "stream",
     "text": [
      "\r",
      " 29%|████████████▏                             | 29/100 [01:36<03:11,  2.69s/it]"
     ]
    },
    {
     "name": "stdout",
     "output_type": "stream",
     "text": [
      "Address number 28: 0x3cb52ca502187f513a8e8a3f6cf606b15bbceec4 mined! 2208 retrieved. 63579 total transactions.\n"
     ]
    },
    {
     "name": "stderr",
     "output_type": "stream",
     "text": [
      "\r",
      " 30%|████████████▌                             | 30/100 [01:38<02:53,  2.47s/it]"
     ]
    },
    {
     "name": "stdout",
     "output_type": "stream",
     "text": [
      "Address number 29: 0x799065d628eff448a0027a92428c7545374e0b39 mined! 1330 retrieved. 64909 total transactions.\n"
     ]
    },
    {
     "name": "stderr",
     "output_type": "stream",
     "text": [
      " 32%|█████████████▍                            | 32/100 [01:39<01:31,  1.34s/it]"
     ]
    },
    {
     "name": "stdout",
     "output_type": "stream",
     "text": [
      "Address number 30: 0xaa778c77e61b6feff66a6aa290adb4bfb5fc8ee4 mined! 0 txns retrieved. 64909 total transactions.\n",
      "Address number 31: 0x693fc4653d4a4d2cf0a326c3e4c324f75f930d8b mined! 0 txns retrieved. 64909 total transactions.\n"
     ]
    },
    {
     "name": "stderr",
     "output_type": "stream",
     "text": [
      "\r",
      " 33%|█████████████▊                            | 33/100 [01:41<01:45,  1.57s/it]"
     ]
    },
    {
     "name": "stdout",
     "output_type": "stream",
     "text": [
      "Address number 32: 0x16c2e1785d99cf2891ddb4e2da72f43f95717f7c mined! 1756 retrieved. 66665 total transactions.\n"
     ]
    },
    {
     "name": "stderr",
     "output_type": "stream",
     "text": [
      "\r",
      " 34%|██████████████▎                           | 34/100 [01:47<03:10,  2.89s/it]"
     ]
    },
    {
     "name": "stdout",
     "output_type": "stream",
     "text": [
      "Address number 33: 0x8e670b4d6651c4051e65b21aa4a575f3f99b8b83 mined! 10000 retrieved. 76665 total transactions.\n"
     ]
    },
    {
     "name": "stderr",
     "output_type": "stream",
     "text": [
      "\r",
      " 35%|██████████████▋                           | 35/100 [01:48<02:46,  2.56s/it]"
     ]
    },
    {
     "name": "stdout",
     "output_type": "stream",
     "text": [
      "Address number 34: 0xd9a0c3969c56309be72881b14f569a096794eb9e mined! 761 retrieved. 77426 total transactions.\n"
     ]
    },
    {
     "name": "stderr",
     "output_type": "stream",
     "text": [
      "\r",
      " 36%|███████████████                           | 36/100 [01:50<02:31,  2.37s/it]"
     ]
    },
    {
     "name": "stdout",
     "output_type": "stream",
     "text": [
      "Address number 35: 0xe64b9fbc6ed0f8df53738d773156732956f96b67 mined! 1084 retrieved. 78510 total transactions.\n"
     ]
    }
   ],
   "source": [
    "base_df_0 = pd.DataFrame()\n",
    "total_transactions = 0\n",
    "for i in tqdm(range(len(list_of_address))):\n",
    "    a = list_of_address[i]\n",
    "    try:\n",
    "        if i == 0:\n",
    "            base_df_0 = get_address_stats_normal_tnx(a, hacked=1)\n",
    "            base_df_0.to_csv(write_to_file, mode='w', index=False, header=True)\n",
    "            itxns = base_df_0.loc[0, 'total transactions (including tnx to create contract']\n",
    "            total_transactions = itxns\n",
    "            print(\"Address number {}: {} mined! {} retrieved. {} total transactions.\".format(i, a, itxns, total_transactions))\n",
    "        else:\n",
    "            cand_df = get_address_stats_normal_tnx(a, hacked=1)\n",
    "            cand_df.to_csv(write_to_file, mode='a', index=False, header=False)\n",
    "            base_df_0 = pd.concat([base_df_0, cand_df])\n",
    "            itxns = cand_df.loc[0, 'total transactions (including tnx to create contract']\n",
    "            total_transactions += itxns\n",
    "            print(\"Address number {}: {} mined! {} retrieved. {} total transactions.\".format(i, a, itxns, total_transactions))\n",
    "\n",
    "    except:\n",
    "        cand_df = get_empty_details_for_address(a, hacked=1)\n",
    "        base_df_0 = pd.concat([base_df_0, cand_df])\n",
    "        cand_df.to_csv(write_to_file, mode='a', index=False, header=False)\n",
    "        print(\"Address number {}: {} mined! 0 txns retrieved. {} total transactions.\".format(i, a, total_transactions))\n",
    "\n",
    "base_df_0 = base_df_0.reset_index(drop=True)\n"
   ]
  },
  {
   "cell_type": "code",
   "execution_count": null,
   "id": "34006aa1",
   "metadata": {},
   "outputs": [],
   "source": [
    "# Concatenate DataFrames vertically\n",
    "combined_df = pd.concat([based_df, base_df_0], axis=0, ignore_index=True)\n",
    "\n",
    "# Save to CSV\n",
    "combined_df.to_csv('data.csv', index=False)"
   ]
  }
 ],
 "metadata": {
  "kernelspec": {
   "display_name": "tf_m1",
   "language": "python",
   "name": "tf_m1"
  },
  "language_info": {
   "codemirror_mode": {
    "name": "ipython",
    "version": 3
   },
   "file_extension": ".py",
   "mimetype": "text/x-python",
   "name": "python",
   "nbconvert_exporter": "python",
   "pygments_lexer": "ipython3",
   "version": "3.10.9"
  }
 },
 "nbformat": 4,
 "nbformat_minor": 5
}
