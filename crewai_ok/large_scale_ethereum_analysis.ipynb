{
 "cells": [
  {
   "cell_type": "markdown",
   "id": "53ca9103",
   "metadata": {},
   "source": [
    "\n",
    "# Large-Scale Ethereum Address Analysis\n",
    "This notebook processes large datasets, such as the Forta malicious smart contract dataset, to handle more than 1,000,000 samples for analysis and feature generation.\n"
   ]
  },
  {
   "cell_type": "code",
   "execution_count": null,
   "id": "f143da94",
   "metadata": {},
   "outputs": [],
   "source": [
    "\n",
    "from datasets import load_dataset\n",
    "import pandas as pd\n",
    "\n",
    "# Load the Forta malicious smart contract dataset (train split)\n",
    "forta_dataset = load_dataset(\"forta/malicious-smart-contract-dataset\", split=\"train\")\n",
    "\n",
    "# Select a large sample (e.g., 1,000,000 samples or the maximum available)\n",
    "sample_size = min(1_000_000, len(forta_dataset))\n",
    "forta_sampled = forta_dataset.shuffle(seed=42).select(range(sample_size))\n",
    "\n",
    "# Convert to a Pandas DataFrame for further processing\n",
    "forta_df = forta_sampled.to_pandas()\n",
    "\n",
    "# Display the dataset's basic info\n",
    "forta_df.info()\n",
    "forta_df.head()\n"
   ]
  },
  {
   "cell_type": "markdown",
   "id": "3707744e",
   "metadata": {},
   "source": [
    "\n",
    "## Next Steps\n",
    "- Use the processed dataset for large-scale analysis or feature generation.\n",
    "- Expand this notebook to integrate machine learning workflows or additional datasets.\n"
   ]
  }
 ],
 "metadata": {},
 "nbformat": 4,
 "nbformat_minor": 5
}
